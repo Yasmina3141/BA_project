{
 "cells": [
  {
   "cell_type": "code",
   "execution_count": null,
   "id": "63f1eaa7",
   "metadata": {},
   "outputs": [],
   "source": [
    "# Import the X-HEEP Python class\n",
    "from pynq import x_heep\n",
    "from perf_counters import *"
   ]
  },
  {
   "cell_type": "code",
   "execution_count": null,
   "id": "2d224b64",
   "metadata": {
    "scrolled": true
   },
   "outputs": [],
   "source": [
    "# Load the X-HEEP bitstream\n",
    "x_heep = x_heep()"
   ]
  },
  {
   "cell_type": "code",
   "execution_count": null,
   "id": "d6af7d95",
   "metadata": {},
   "outputs": [],
   "source": [
    "# Compile the application\n",
    "x_heep.compile_app(\"energy_estimation\");"
   ]
  },
  {
   "cell_type": "code",
   "execution_count": null,
   "id": "643e5cbc",
   "metadata": {},
   "outputs": [],
   "source": [
    "# Init the performance counters\n",
    "perfc = PerfCounters()"
   ]
  },
  {
   "cell_type": "code",
   "execution_count": null,
   "id": "fd8e74c7",
   "metadata": {},
   "outputs": [],
   "source": [
    "x_heep.run_app(perfCounters = perfc);"
   ]
  },
  {
   "cell_type": "code",
   "execution_count": null,
   "id": "b4c639bb",
   "metadata": {},
   "outputs": [],
   "source": [
    "# Read the performance counters\n",
    "perfc.read_perf_cnt()"
   ]
  },
  {
   "cell_type": "code",
   "execution_count": null,
   "id": "47ff5764",
   "metadata": {},
   "outputs": [],
   "source": [
    "# Estimate the performance\n",
    "perfc.estimate_performance()"
   ]
  },
  {
   "cell_type": "code",
   "execution_count": null,
   "id": "b1da5c73",
   "metadata": {},
   "outputs": [],
   "source": [
    "# Estimate the energy\n",
    "perfc.estimate_energy(\"LVT\")"
   ]
  },
  {
   "cell_type": "code",
   "execution_count": null,
   "id": "8a692a02",
   "metadata": {},
   "outputs": [],
   "source": [
    "# Delete perf_cnt\n",
    "del perfc"
   ]
  }
 ],
 "metadata": {
  "kernelspec": {
   "display_name": "Python 3 (ipykernel)",
   "language": "python",
   "name": "python3"
  }
 },
 "nbformat": 4,
 "nbformat_minor": 5
}
