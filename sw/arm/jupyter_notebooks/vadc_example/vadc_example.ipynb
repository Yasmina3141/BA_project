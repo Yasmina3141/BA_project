{
 "cells": [
  {
   "cell_type": "markdown",
   "id": "9a4c49a0",
   "metadata": {},
   "source": [
    "# Virtual ADC example\n",
    "---\n",
    "\n",
    "Welcome to the Virtual ADC example of X-HEEP's FEMU! \n",
    "This notebook will demonstrate how to: \n",
    "1. Take a signal from a `.txt` file and convert it to a `Timeseries` variable.\n",
    "2. Load a pair of signals from a `Timeseries` variable and feed it to the virtual ADC. \n",
    "3. Interact with the X-HEEP's C code from this notebook through a `definitions.h` file.  \n",
    "4. Load the bitstream describing X-HEEP into the FPGA's Programmable Logic\n",
    "5. Launch an application on X-HEEP that receives the virtual ADC's input through SPI and outputs the result of applying some processing through the UART.\n",
    "6. Plot the results obtained from X-HEEP's execution. \n",
    "7. Obtain performance measurements from the execution, plot them to spot bottlenecks and compare them to application requirements.\n",
    "\n",
    "---\n"
   ]
  },
  {
   "cell_type": "markdown",
   "id": "2fd59f4a",
   "metadata": {},
   "source": [
    "## Initialization\n",
    "\n",
    "First some key paths are set and added to the system path. "
   ]
  },
  {
   "cell_type": "code",
   "execution_count": null,
   "id": "130811ea",
   "metadata": {
    "scrolled": true
   },
   "outputs": [],
   "source": [
    "BASELINE_PATH   = '/home/xilinx/x-heep-femu-sdk/sw/'                        # Path to the software side of the FEMU\n",
    "SDK_PATH        = BASELINE_PATH + \"arm/sdk/\"                                # PAth to the SDK\n",
    "APP_PATH        = BASELINE_PATH + 'riscv/apps/vadc_example/'                # Path to the .c file of the ADC-emu application\n",
    "NB_PATH         = BASELINE_PATH + 'arm/jupyter_notebooks/vadc_example/'     # Path to this notebook\n",
    "ADC_EMU_PATH    = SDK_PATH      + 'adc-emu/src'                             # Path to the API of the ADC emulator\n",
    "\n",
    "# Add some key paths to the system path\n",
    "import sys\n",
    "sys.path.append(SDK_PATH)\n",
    "sys.path.append(ADC_EMU_PATH )\n",
    "\n",
    "# Fixed information on where input and output data should be stored, and in which format\n",
    "PATH_IN         = 'in/'\n",
    "PATH_OUT        = 'out/'\n",
    "EXTENSION_IN    = '.txt'\n",
    "ADC_BIN_NAME    = 'adc_in'\n",
    "DATA_FILE_NAME  = APP_PATH + ADC_BIN_NAME + \".bin\""
   ]
  },
  {
   "cell_type": "markdown",
   "id": "2b8977fe",
   "metadata": {},
   "source": [
    "Include the SDK modules you want to use.\n",
    "\n",
    "> The code at the top will guarantee that the modules are reloaded when using Jupyter Notebooks on Visual Studio Code. "
   ]
  },
  {
   "cell_type": "code",
   "execution_count": null,
   "id": "e519b364",
   "metadata": {},
   "outputs": [],
   "source": [
    "#!/usr/bin/env python3\n",
    "%reload_ext autoreload\n",
    "%autoreload 2\n",
    "\n",
    "import numpy as np\n",
    "import matplotlib.pyplot as plt\n",
    "\n",
    "from pynq import x_heep\n",
    "from perf_counters import *\n",
    "from x_heep_code import *\n",
    "from timeseries import *\n",
    "from processes import *\n",
    "from adc_emu import *\n",
    "from vadc import *"
   ]
  },
  {
   "cell_type": "markdown",
   "id": "3eded12f",
   "metadata": {},
   "source": [
    "## Creating an emulated ADC and feeding signals to it\n",
    "\n",
    "Signals can be found in different formats and flavours. In order to standardize the format in which we feed information to the virtual-ADC (vADC) we will transform the input signal to a `Timeseries` variable. This `Timeseries` can be exported to a `.bin` file for the vADC. Additionally, one or more `Timeseries` can be fed into the `ADC-emulator` (ADC-emu), which will take the ADC parameters and pre-process the input signal to emulate a signal acquired by such an ADC. The output of the ADC-emu can then be converted to a `.bin` file to be read by the vADC. "
   ]
  },
  {
   "cell_type": "markdown",
   "id": "d3c54451",
   "metadata": {},
   "source": [
    "### Read the input file \n",
    "\n",
    "We will use a multimodal dataset containing data from different biosignals. This file is a `.txt` from which we will extract some channels and feed them a multi-channel ADC-emu to obtain a pre-processed signal that can be fed to the vADC. \n",
    "\n",
    "The input file has the following format:\n",
    "```\n",
    "Time,FP1,FP2,C3,C4,O1,O2,SPR1,SPR2,ECG1,ECG2\n",
    "0.005,86.512,-61.877,73.345,-196.646,120.742,-10.405,-121.088,-6.189,1.378,-24.799\n",
    "0.010,54.116,-194.703,32.428,-161.863,129.175,65.907,-121.581,-27.004,22.375,-29.840\n",
    "```\n",
    "\n",
    "\n",
    "> Data obtained from [Aminosharieh et al., \"Drivers' Mental Engagement Analysis Using Multi-Sensor Fusion Approaches Based on Deep Convolutional Neural Networks\", 2023](https://www.mdpi.com/1424-8220/23/17/7346).\n",
    "\n",
    "\n",
    "The execution of this cell should take ~30s"
   ]
  },
  {
   "cell_type": "code",
   "execution_count": null,
   "id": "3267f23d",
   "metadata": {},
   "outputs": [],
   "source": [
    "# Read the file, strip it from special characters and split it into elements\n",
    "with open( NB_PATH + PATH_IN + 'multimodal/S1_ADAS1.txt') as f: y = f.readlines()\n",
    "titles = y[0].strip().split(',')                                        # Extract the title of each channel\n",
    "data = np.asarray([[float(f) for f in l.split(',')] for l in y[1:]])    # Extract the cleaned values (ignoring the titles)\n",
    "\n",
    "channels = []\n",
    "for i in range(len(titles)): channels.append([row[i] for row in data])  # Get the values for each channel"
   ]
  },
  {
   "cell_type": "markdown",
   "id": "af63f08c",
   "metadata": {},
   "source": [
    "### Clean the signal to be converted to a Timeseries\n",
    "\n",
    "`Timeseries` variables are a pair of vectors containing timestamps and data values (not necessarily sampled at a fixed rate). We will manipulate the input signal to extract these two pairs so we can later feed them to the ADC-emu. "
   ]
  },
  {
   "cell_type": "code",
   "execution_count": null,
   "id": "361a532f",
   "metadata": {},
   "outputs": [],
   "source": [
    "time        = channels[0]           # Extract the timestamps\n",
    "channels    = channels[1:]          # Remove the \"Time\" channel to keep only the channel values\n",
    "titles      = titles[1:]            # Remove the \"Time\" title to keep only the title of the channels\n",
    "f_input_Hz  = 1/(time[1] - time[0]) # Compute the frequency of the input signal"
   ]
  },
  {
   "cell_type": "markdown",
   "id": "a8ba0ec1",
   "metadata": {},
   "source": [
    "Set the parameters for how the vADC should encode the input channels.  "
   ]
  },
  {
   "cell_type": "code",
   "execution_count": null,
   "id": "6f469bd2",
   "metadata": {},
   "outputs": [],
   "source": [
    "# The titles from the input file that will be used as input channels\n",
    "channels_to_plot = ['FP1', 'ECG1']\n",
    "\n",
    "# The ADC's amplitude resolution in bits. The input signal will be quantized to this. Values will be interpolated.\n",
    "ADC_RESOLUTION_BITS             = 7\n",
    "# The number of bits to be used as channel ID. For example, if the input resolution is 14 bits, it might be useful to use 2 bits as channel ID.\n",
    "# This way, each channel data will be formated as CCdd dddd dddd dddd; where C stand for channel ID bits and d for data bits.\n",
    "ADC_TCDM_CHANNEL_ID_BITS        = 1\n",
    "# The size in bytes of the whole word representing each data from each channel. In this example, 16 bits.\n",
    "ADC_WORD_SIZE_BYTES             = int(np.ceil((ADC_RESOLUTION_BITS + ADC_TCDM_CHANNEL_ID_BITS )/8))\n",
    "# The size of each data from each channel, in bits.\n",
    "ADC_WORD_SIZE_BITS              = ADC_WORD_SIZE_BYTES * 8\n",
    "# The mask to obtain the data value, removing the channel ID. In this example: 0011 1111 1111 1111\n",
    "ADC_CH_DATA_MASK                = (1 << ADC_RESOLUTION_BITS) -1"
   ]
  },
  {
   "cell_type": "markdown",
   "id": "8e3e85ce",
   "metadata": {},
   "source": [
    "Set the different frequencies involved in the simulation. "
   ]
  },
  {
   "cell_type": "code",
   "execution_count": null,
   "id": "e1d73d21",
   "metadata": {},
   "outputs": [],
   "source": [
    "# The frequency at wich the PL will actually run.\n",
    "# Changing this frequency wil alter the real latency of the experiments.\n",
    "# Cannot exceed 20 MHz (limit of the pynq-z2 board).\n",
    "FREQ_X_HEEP_REALTIME_HZ         = 20*1e6\n",
    "# The emulated frequency of X-HEEP.\n",
    "# This frequency is used to compute the downscale required to generate the vADC sampling frequency\n",
    "# and to compute the reported latency and energy consumption.\n",
    "# X-HEEP will believe it is running at this frequency, while it's actually running at FREQ_X_HEEP_REALTIME_HZ.\n",
    "# It is not limited, although silicon results on HEEPocrates have shown operation from 32 kHz to 470 MHz @ 1.2 V in LVT technology.\n",
    "FREQ_X_HEEP_EMULATED_HZ         = 1*1e6\n",
    "# The desired emulated frequency of acquisition of samples from the vADC.\n",
    "# An approximation to this value will be reached by downscaling the FREQ_X_HEEP_EMULATED_HZ by calling set_vadc_clk() in the C code.\n",
    "# Note that not any frequency is possible (therefore, this is only the desired frequency).\n",
    "# The actual sampling frequency will be computed and stored in FREQ_VADC_EMULATED_HZ.\n",
    "# If this frequency is larger that the input data actual frequency, it will be interpolated.\n",
    "FREQ_VADC_DESIRED_EMULATED_HZ   = 700*1e3\n",
    "# @ToDo take the code from vadc.c and implement it here.\n",
    "FREQ_VADC_EMULATED_HZ           = FREQ_VADC_DESIRED_EMULATED_HZ\n",
    "\n",
    "# This is an application-specific parameter used to set the number of samples that the program will acquire before switching buffers.\n",
    "X_HEEP_SAMPLING_BUFFER_SAMPLES  = 32\n",
    "\n",
    "# Crop the signal to a certain lenght. In this case we will keep only the first 15s of signal.\n",
    "SIGNAL_LENGTH_S                 = 15"
   ]
  },
  {
   "cell_type": "markdown",
   "id": "9cd845ef",
   "metadata": {},
   "source": [
    "Use the selected values to crop the selected signal."
   ]
  },
  {
   "cell_type": "code",
   "execution_count": null,
   "id": "1599c04f",
   "metadata": {},
   "outputs": [],
   "source": [
    "length_n = int(SIGNAL_LENGTH_S*f_input_Hz)                              # Number of samples that will be included in the input signal\n",
    "for c in range(len(channels)): channels[c] = channels[c][:length_n]     # The cropped signal for each channel"
   ]
  },
  {
   "cell_type": "code",
   "execution_count": null,
   "id": "12593a61",
   "metadata": {},
   "outputs": [],
   "source": [
    "fig = plt.figure(figsize=(20,5))\n",
    "indexes = [titles.index(element) for element in channels_to_plot]\n",
    "channel_count = len(indexes)\n",
    "\n",
    "# Create a Multi-Channel (MC) ADC\n",
    "mcadc = mcADC(\"MultiChannel ADC\", channels = [] )\n",
    "\n",
    "# For each of the selected input channels create an emulated ADC\n",
    "for ch_idx, ch_count in zip(indexes, range(len(indexes))):\n",
    "    # Each ADC can have its own parameters, but in this example we use all of them with the same characteristics\n",
    "    mcadc.channels.append( ADC( name        = f\"ADC for {titles[ch_idx]}\",  # Name of the channel\n",
    "                                units       = \"uV\",                         # Units (for printing only)\n",
    "                                f_sample_Hz = f_input_Hz,                   # Desired output frequency\n",
    "                                ampl_bits   = ADC_RESOLUTION_BITS,          # Desired output resolution\n",
    "                                dynRange    = [-1500, 1500],                # Dynamic range, in the input units.\n",
    "                                series      =  Timeseries(  f\"{titles[ch_idx]}\",        # The Timeseries that is fed to the ADC\n",
    "                                                            channels[ch_idx],           # The channel that will provide the values to this Timeseries\n",
    "                                                            length_s = SIGNAL_LENGTH_S  # The length of the signal in seconds. Alternativelly we could have provided\n",
    "                                                                                        # a sampling frequency or an array with timestamps.\n",
    "                                                        )\n",
    "                            )\n",
    "                        )\n",
    "    # Plot the output of each ADC channel\n",
    "    ax = plt.subplot2grid((channel_count, 2), (channel_count - ch_count -1, 0), rowspan = 1 )\n",
    "    ax.plot(mcadc.channels[ch_count].conversion.time, mcadc.channels[ch_count].conversion.data )\n",
    "    ax.set_title(mcadc.channels[ch_count].conversion.name)\n",
    "\n",
    "# Time-division-multiplex (TDM) the different channels of the MCADC. This will take one sample from each channel at a time and append them together.\n",
    "mcadc.TDM()\n",
    "\n",
    "# Plot the output of the MCADC\n",
    "ax = plt.subplot2grid((channel_count, 2), (0, 1), rowspan = channel_count )\n",
    "ax.set_title(mcadc.conversion.name)\n",
    "ax.scatter(mcadc.conversion.time, mcadc.conversion.data, s=2  )\n",
    "plt.title(\"Input to X-HEEP\")\n",
    "plt.xlabel(\"Time (s)\")\n",
    "plt.tight_layout()"
   ]
  },
  {
   "cell_type": "markdown",
   "id": "f76f76c5",
   "metadata": {},
   "source": [
    "### Export the output of the MCADC to a binary file to be used by the vADC "
   ]
  },
  {
   "cell_type": "code",
   "execution_count": null,
   "id": "6087b01f",
   "metadata": {},
   "outputs": [],
   "source": [
    "# Export the output of the MCADC. These are the values that will be fed to the virtual ADC\n",
    "mcadc.conversion.export_bin( outfile = DATA_FILE_NAME, bytes = ADC_WORD_SIZE_BYTES, bigendian = False )\n",
    "\n",
    "# Check how many samples are actually sent (as this depend on the encoding chosen)\n",
    "VADC_ACQUISITION_SAMPLES = len(mcadc.conversion.data)\n",
    "print(f\"Set {VADC_ACQUISITION_SAMPLES} words as input\")"
   ]
  },
  {
   "cell_type": "markdown",
   "id": "46fdb45e",
   "metadata": {},
   "source": [
    "## Share information with the C code\n",
    "\n",
    "A `definitions.h` file is created to share data between this notebook and the C code. You can add any kind of `#define` (including macros) to the code. \n",
    "In this case it is used to share strings that will be used by the software to parse a result and print it so we can extract it from the UART to plot it.  \n",
    "We also share vADC sampling information to be used in configuring the acquisition."
   ]
  },
  {
   "cell_type": "code",
   "execution_count": null,
   "id": "ce6a5ab3",
   "metadata": {},
   "outputs": [],
   "source": [
    "# Write the definitions header file to share information with the C code\n",
    "defs = Definitions( APP_PATH + 'definitions.h', \"DEFINITIONS\" )\n",
    "defs.add( \"VADC_ACQUISITION_SAMPLES\",          VADC_ACQUISITION_SAMPLES )\n",
    "defs.add( \"X_HEEP_SAMPLING_BUFFER_SAMPLES\",    X_HEEP_SAMPLING_BUFFER_SAMPLES )\n",
    "defs.add( \"WORD_SIZE_BYTES\",                   ADC_WORD_SIZE_BYTES )\n",
    "defs.add( \"WORD_SIZE_BITS\",                    ADC_WORD_SIZE_BITS )\n",
    "defs.add( \"ADC_CH_DATA_MASK\",                  ADC_CH_DATA_MASK )\n",
    "defs.add( \"VADC_SAMPLING_FREQ_HZ\",             FREQ_VADC_EMULATED_HZ )\n",
    "defs.add( \"ENABLE_PRINTF\",                     1) # This is not the same as VERBOSE, as a) it actually reflects in C-code and therefore in performance and b) Will not allow to read the output to plot in this notebook\n",
    "defs.close()"
   ]
  },
  {
   "cell_type": "markdown",
   "id": "bd6407df",
   "metadata": {},
   "source": [
    "# Load the bitstream into the programmable logic"
   ]
  },
  {
   "cell_type": "markdown",
   "id": "97e56667",
   "metadata": {},
   "source": [
    "The bitstream of X-HEEP + the necessary peripherals to interact with the FEMU (`x_heep.bit`) are loaded. It should be located in `~/x-heep-femu-sdk/hw/` (w.r.t. this notebook: `../../../../hw/`). "
   ]
  },
  {
   "cell_type": "code",
   "execution_count": null,
   "id": "669e4197",
   "metadata": {},
   "outputs": [],
   "source": [
    "xh = x_heep()"
   ]
  },
  {
   "cell_type": "markdown",
   "id": "b693f119",
   "metadata": {},
   "source": [
    "# Compile the code and run the application\n",
    "\n",
    "The C code written for X-HEEP in `~/x-heep-femu-sdk/sw/riscv/apps/adc-emu/adc-emu.c` will be compiled to generate the `code.*` files in `~/x-heep-femu-sdk/sw/build/`. This will be later loaded into X-HEEP for it to execute. \n",
    "\n",
    "After compilation, the `virtual ADC` is initialized with the signal that will be fed.\n",
    "\n",
    "The performance counters are initialized (reset and started). These will capture the execution of X-HEEP and will be used to asses the latency of the execution and average power of each block of X-HEEP. \n",
    "\n",
    "During the exeuction the UART output will be printed live (unless `verbose` is set to `False`). \n",
    "\n",
    "The execution of this cells takes around 9 seconds (until compilation) + around 6 seconds for the program to start."
   ]
  },
  {
   "cell_type": "code",
   "execution_count": null,
   "id": "37d96249",
   "metadata": {},
   "outputs": [],
   "source": [
    "xh.compile_app(\"vadc_example\")\n",
    "\n",
    "vadc    = vADC(DATA_FILE_NAME)\n",
    "perfc   = PerfCounters()\n",
    "\n",
    "xh.run_app(verbose = True, perfCounters = perfc);"
   ]
  },
  {
   "cell_type": "markdown",
   "id": "e5984a04",
   "metadata": {},
   "source": [
    "### Parse the UART output\n",
    "\n",
    "Until now most steps were significantly _\"application-agnostic\"_. The parsing of the output will strongly depend on what you are trying to extract from X-HEEP."
   ]
  },
  {
   "cell_type": "code",
   "execution_count": null,
   "id": "e59f30c3",
   "metadata": {},
   "outputs": [],
   "source": [
    "# Extract the UART output from X-HEEP\n",
    "app_out = xh.uart_data\n",
    "output_array = np.array([int(item) for item in app_out[app_out.index(\"Output\\n\") + 1:app_out.index(\"End\\n\")] if item.strip().isdigit()])\n",
    "\n",
    "output = Timeseries(\"Output from X-HEEP\", data=output_array, f_Hz = 666666/X_HEEP_SAMPLING_BUFFER_SAMPLES )\n",
    "\n",
    "data_a = []\n",
    "data_b = []\n",
    "for d in output.data:\n",
    "    data_a.append(d & 0x00003FFF)\n",
    "    data_b.append((d & 0x3FFF0000) >> 16)\n",
    "\n",
    "# Generate a time reference based on the input signal.\n",
    "step = max(mcadc.conversion.time)/int(VADC_ACQUISITION_SAMPLES/X_HEEP_SAMPLING_BUFFER_SAMPLES)\n",
    "time = list(np.arange(step, max(mcadc.conversion.time) + step, step))\n",
    "\n",
    "output_a = Timeseries(\"Output A\", data = data_a, time = time)\n",
    "output_b = Timeseries(\"Output B\", data = data_b, time = time)\n"
   ]
  },
  {
   "cell_type": "markdown",
   "id": "35374e96",
   "metadata": {},
   "source": [
    "## Plot the input and output\n",
    "\n",
    "The obtained output will be plotted along with the input data `mcadc.conversion`. "
   ]
  },
  {
   "cell_type": "code",
   "execution_count": null,
   "id": "a08fa0cc",
   "metadata": {},
   "outputs": [],
   "source": [
    "import matplotlib.pyplot as plt\n",
    "\n",
    "series = []\n",
    "series.append(output_a)\n",
    "series.append(mcadc.channels[0].conversion)\n",
    "series.append(output_b)\n",
    "series.append(mcadc.channels[1].conversion)\n",
    "\n",
    "fig = plt.figure(figsize=(10,8))\n",
    "\n",
    "ax = plt.subplot(2,1,1)\n",
    "ax.plot(series[0].time, series[0].data)\n",
    "ax.plot(series[1].time, series[1].data, alpha=0.3)\n",
    "plt.legend([ s.name for s in series[:2] ], loc='lower right')\n",
    "\n",
    "ax = plt.subplot(2,1,2)\n",
    "ax.plot(series[2].time, series[2].data)\n",
    "ax.plot(series[3].time, series[3].data, alpha=0.3)\n",
    "plt.legend([ s.name for s in series[2:] ], loc='lower right')\n",
    "\n",
    "plt.xlabel(\"Time (s)\");\n"
   ]
  },
  {
   "cell_type": "markdown",
   "id": "edc5641e",
   "metadata": {},
   "source": [
    "## Performance and Energy\n",
    "\n",
    "During the execution of the application performance measurements were generated. In this section we will read them to generate latency and energy estimations. \n",
    "\n",
    "The report generated is stored in `~/x-heep-femu-sdk/sw/riscv/build/energy_estim.csv`.\n",
    "\n",
    "Latency, power and energy results will be computed and can be compared to some defined budgets. \n",
    "\n",
    "You can prune your design by removing modules to estimate the power consumption of X-HEEP without these blocks. "
   ]
  },
  {
   "cell_type": "code",
   "execution_count": null,
   "id": "b1683f19",
   "metadata": {},
   "outputs": [],
   "source": [
    "from copy import deepcopy as cp\n",
    "import pprint\n",
    "from report import *\n",
    "\n",
    "# Define some budgets that we should not cross\n",
    "POWER_BUDGET_W      = 300e-6\n",
    "LATENCY_BUDGET_S    = 100e-3\n",
    "\n",
    "perfc.read_perf_cnt();                          # Read the performance counters\n",
    "perfc.estimate_performance(verbose=False);      # Estimate the performance\n",
    "perfc.estimate_energy(\"HVT\", verbose=False);    # Estimate the energy using the HVT model\n",
    "\n",
    "print(\"---------------------\")\n",
    "print(\"  Full System  \")\n",
    "rep_summary, rep_latency, rep_energy  = report() # Get the report\n",
    "\n",
    "print(\"---------------------\")\n",
    "print(\"  System Pruning  \")\n",
    "\n",
    "\n",
    "# Remove modules that will not be used in the design.\n",
    "# In case you want to print the dictionaries containing the breakdown\n",
    "if 0: pprint.pprint(rep_energy)\n",
    "# Otherwise you can check the names in sdk/sw/riscv/build/energy_estim.csv\n",
    "pruned_energy = cp(rep_energy)\n",
    "\n",
    "# List the modules that were not used and should be excluded from the performance evaluation\n",
    "modules_to_remove = [\"debug ao\", \"uart ao\", \"spi ao\", \"spi flash ao\", \"gpio\", \"i2c\", \"timer\" ]\n",
    "for m in modules_to_remove: pruned_energy = remove_module(pruned_energy, m )\n",
    "\n",
    "rep_summary['Energy_J'] = pruned_energy['Total']\n",
    "rep_summary['Power_W']  = rep_summary['Energy_J']/rep_summary['Latency_s']\n",
    "\n",
    "print(f\"Latency:\\t{rep_summary['Latency_s']*1e3:0.2f} ms\")\n",
    "print(f\"Energy: \\t{rep_summary['Energy_J']*1e6:0.2f} µJ\")\n",
    "print(f\"Avg Pwr:\\t{rep_summary['Power_W']*1e6:0.2f} µW\")\n",
    "\n",
    "print( \"✅ Latency SUCCESS\" if rep_summary['Latency_s'] < LATENCY_BUDGET_S  else \"❌ Latency FAIL\" )\n",
    "print( \"✅ Power SUCCESS\"   if rep_summary['Power_W']   < POWER_BUDGET_W    else \"❌ Power FAIL\"   )\n",
    "\n",
    "# Plot a breakdown of the energy consumption\n",
    "plot_energy( pruned_energy, level=1 )"
   ]
  }
 ],
 "metadata": {
  "kernelspec": {
   "display_name": "Python 3 (ipykernel)",
   "language": "python",
   "name": "python3"
  },
  "language_info": {
   "codemirror_mode": {
    "name": "ipython",
    "version": 3
   },
   "file_extension": ".py",
   "mimetype": "text/x-python",
   "name": "python",
   "nbconvert_exporter": "python",
   "pygments_lexer": "ipython3",
   "version": "3.10.4"
  }
 },
 "nbformat": 4,
 "nbformat_minor": 5
}
