{
 "cells": [
  {
   "cell_type": "code",
   "execution_count": 2,
   "id": "63f1eaa7",
   "metadata": {},
   "outputs": [
    {
     "name": "stdout",
     "output_type": "stream",
     "text": [
      "✅ Bitstream loaded\n",
      "✅ Compile SUCCESS\n",
      "Hello World!\n",
      "✅ Return SUCCESS\n",
      " \n",
      "\r"
     ]
    }
   ],
   "source": [
    "from pynq import x_heep             # Import the X-HEEP Python class\n",
    "x_heep = x_heep()                   # Load the X-HEEP bitstream\n",
    "x_heep.compile_app(\"hello_world\")   # Compile the application\n",
    "x_heep.run_app();                   # Run the application"
   ]
  }
 ],
 "metadata": {
  "kernelspec": {
   "display_name": "Python 3 (ipykernel)",
   "language": "python",
   "name": "python3"
  },
  "language_info": {
   "codemirror_mode": {
    "name": "ipython",
    "version": 3
   },
   "file_extension": ".py",
   "mimetype": "text/x-python",
   "name": "python",
   "nbconvert_exporter": "python",
   "pygments_lexer": "ipython3",
   "version": "3.10.4"
  }
 },
 "nbformat": 4,
 "nbformat_minor": 5
}
